{
 "cells": [
  {
   "cell_type": "markdown",
   "metadata": {},
   "source": [
    "# Desafío 2: Interactuar con la API de Mercado Libre\n",
    "Palabas mas buscadas en la categoria Celulares:"
   ]
  },
  {
   "cell_type": "code",
   "execution_count": 2,
   "metadata": {},
   "outputs": [],
   "source": [
    "import requests\n",
    "from datetime import datetime\n",
    "import os\n",
    "import json\n",
    "\n",
    "hoy = datetime.today()\n",
    "nombreapi='trends'\n",
    "region='MLA'\n",
    "categoria='MLA1051'\n",
    "formato='json'\n",
    "aniomes=hoy.strftime('%Y%m')\n",
    "\n",
    "\n",
    "url=f'https://api.mercadolibre.com/{nombreapi}/{region}/{categoria}'\n",
    "\n",
    "r = requests.get(url)\n",
    "a=r.json()\n",
    "\n",
    "path=nombreapi+formato+aniomes\n",
    "if not os.path.exists(path):\n",
    "    os.makedirs(path, exist_ok=True)\n",
    "\n",
    "with open(path+'/'+nombreapi+categoria+'.'+formato, 'w') as outfile:\n",
    "    json.dump(a, outfile)"
   ]
  },
  {
   "cell_type": "markdown",
   "metadata": {},
   "source": [
    "# Desafío 3: Deserializar un JSON\n"
   ]
  },
  {
   "cell_type": "code",
   "execution_count": 3,
   "metadata": {},
   "outputs": [],
   "source": [
    "import pandas as pd\n",
    "import numpy as np\n",
    "from datetime import datetime\n",
    "import os\n",
    "\n",
    "file_json='Sellers.json'\n",
    "file_name='sellers_x_segmento.csv'\n",
    "hoy = datetime.today()\n",
    "\n",
    "df_json= pd.read_json(file_json)\n",
    "df=pd.json_normalize(df_json.body)\n",
    "\n",
    "df=df[['site_id','id','nickname','points']]\n",
    "df.columns=['siteId','sellerId','sellerNickname','sellerPoints']\n",
    "\n",
    "df['segmento']=np.where(df['sellerPoints']<0,'Negativo',np.where(df['sellerPoints']>0,'Positivo','Cero'))\n",
    "\n",
    "# Tomo los sitios únicos\n",
    "sites=df['siteId'].unique()\n",
    "\n",
    "# Tomo los segmentos únicos para separar en carpetas\n",
    "segments=df['segmento'].unique()\n",
    "\n",
    "for site in sites:\n",
    "    df_temp=df[df['siteId']==site]\n",
    "    for segmento in segments:\n",
    "        path = site+hoy.strftime('/%Y/%m/%d/')+segmento\n",
    "        if not os.path.exists(path):\n",
    "            os.makedirs(path, exist_ok=True)\n",
    "        df_out=df_temp[df['segmento']==segmento]\n",
    "        df_out.to_csv(os.path.join(path,file_name),index=False)\n",
    "        "
   ]
  },
  {
   "attachments": {
    "Captura%20de%20pantalla%202021-07-20%20092156.png": {
     "image/png": "[encoded data removed]"
    }
   },
   "cell_type": "markdown",
   "metadata": {},
   "source": [
    "![Captura%20de%20pantalla%202021-07-20%20092156.png](attachment:Captura%20de%20pantalla%202021-07-20%20092156.png)"
   ]
  },
  {
   "cell_type": "markdown",
   "metadata": {},
   "source": [
    "# Desafío 4: Parseo de un Array de Structs en un dataframe\n"
   ]
  },
  {
   "cell_type": "code",
   "execution_count": 4,
   "metadata": {},
   "outputs": [],
   "source": [
    "import pandas as pd\n",
    "import json\n",
    "\n",
    "file_json='MPE1004.json'\n",
    "\n",
    "fj=open(file_json)\n",
    "js=json.load(fj)\n",
    "\n",
    "df=pd.DataFrame(js['results'])\n",
    "df=df[[ 'id','sold_quantity','available_quantity']]\n",
    "df.columns=['itemId','soldQuantity','availableQuantity']\n",
    "df['rowId']=df.index+1\n"
   ]
  },
  {
   "cell_type": "code",
   "execution_count": 5,
   "metadata": {},
   "outputs": [
    {
     "name": "stdout",
     "output_type": "stream",
     "text": [
      "    rowId        itemId  soldQuantity  availableQuantity\n",
      "0       1  MPE433108265             6                  9\n",
      "1       2  MPE434382765             6                  3\n",
      "2       3  MPE433853177             3                 17\n",
      "3       4  MPE419883282            15                 18\n",
      "4       5  MPE431714651            15                  1\n",
      "5       6  MPE438492919             0                100\n",
      "6       7  MPE429448587             0                 50\n",
      "7       8  MPE439307195             0                  3\n",
      "8       9  MPE439307251             0                  3\n",
      "9      10  MPE437503507             0                 10\n",
      "10     11  MPE438828260             0                  3\n",
      "11     12  MPE439307426             0                  3\n",
      "12     13  MPE440306037             0                  1\n",
      "13     14  MPE439307206             0                  3\n",
      "14     15  MPE431446248             2                 23\n",
      "15     16  MPE439307250             0                  3\n",
      "16     17  MPE439510012             0                  1\n",
      "17     18  MPE439307317             0                  3\n",
      "18     19  MPE439307286             0                  3\n",
      "19     20  MPE439307385             0                  3\n",
      "20     21  MPE440131689             0                  7\n",
      "21     22  MPE432990777             1                  5\n",
      "22     23  MPE440389411             1                  9\n",
      "23     24  MPE421767433             4                 11\n",
      "24     25  MPE432990779             0                  1\n",
      "25     26  MPE432439269             2                  1\n",
      "26     27  MPE431410374             0                  1\n",
      "27     28  MPE430002527             1                  1\n",
      "28     29  MPE432990781             0                  1\n",
      "29     30  MPE432202936             0                 10\n",
      "30     31  MPE428549066             0                  5\n",
      "31     32  MPE428549082             1                  4\n",
      "32     33  MPE433933924             1                  1\n",
      "33     34  MPE432291284             2                  1\n",
      "34     35  MPE432728801             1                  1\n",
      "35     36  MPE433252062             2                  1\n",
      "36     37  MPE436649728             0                100\n",
      "37     38  MPE427140390            10                  2\n",
      "38     39  MPE433046443             0                999\n"
     ]
    }
   ],
   "source": [
    "df=df[['rowId','itemId','soldQuantity','availableQuantity']]\n",
    "print(df)"
   ]
  },
  {
   "cell_type": "markdown",
   "metadata": {},
   "source": [
    "# Desafío 5: Agregar las visitas al DataFrame con datos de ventas.\n"
   ]
  },
  {
   "cell_type": "code",
   "execution_count": 6,
   "metadata": {},
   "outputs": [],
   "source": [
    "#creo el DataFrame de las ventas\n",
    "df5=df[['itemId','soldQuantity']]\n",
    "#Cargo las visitas\n",
    "file_csv='C:/Users/gechevarria/Documents/visits.csv'\n",
    "df_visits=pd.read_csv(file_csv)\n",
    "\n",
    "#Uno ambos DataFrame por itemId\n",
    "df_result = df5.merge(df_visits, on='itemId', how='inner')\n",
    "#filtro los items sin ventas\n",
    "df_result = df_result[df_result['soldQuantity'] > 0]\n"
   ]
  },
  {
   "cell_type": "code",
   "execution_count": 7,
   "metadata": {},
   "outputs": [
    {
     "name": "stdout",
     "output_type": "stream",
     "text": [
      "          itemId  soldQuantity  visits\n",
      "0   MPE433108265             6     203\n",
      "1   MPE434382765             6     170\n",
      "2   MPE433853177             3    1034\n",
      "3   MPE419883282            15    1772\n",
      "4   MPE431714651            15      33\n",
      "14  MPE431446248             2    2242\n",
      "21  MPE432990777             1     426\n",
      "22  MPE440389411             1     158\n",
      "23  MPE421767433             4     746\n",
      "25  MPE432439269             2      42\n",
      "27  MPE430002527             1      60\n",
      "31  MPE428549082             1     352\n",
      "32  MPE433933924             1      49\n",
      "33  MPE432291284             2       6\n",
      "34  MPE432728801             1      68\n",
      "35  MPE433252062             2      92\n",
      "37  MPE427140390            10      81\n"
     ]
    }
   ],
   "source": [
    "print(df_result)"
   ]
  },
  {
   "cell_type": "markdown",
   "metadata": {},
   "source": [
    "# Desafío 6: Agregar métricas a un DataFrame.\n"
   ]
  },
  {
   "cell_type": "code",
   "execution_count": 8,
   "metadata": {},
   "outputs": [],
   "source": [
    "df6=df_result\n",
    "df6['conversionRate']=df6['soldQuantity']/df6['visits']\n",
    "df6['conversionRanking']=df6['conversionRate'].rank(ascending=False).astype(int)\n",
    "df6.sort_values('conversionRanking', ascending=True, inplace=True)\n"
   ]
  },
  {
   "cell_type": "code",
   "execution_count": 9,
   "metadata": {},
   "outputs": [
    {
     "name": "stdout",
     "output_type": "stream",
     "text": [
      "          itemId  soldQuantity  visits  conversionRate  conversionRanking\n",
      "4   MPE431714651            15      33        0.454545                  1\n",
      "33  MPE432291284             2       6        0.333333                  2\n",
      "37  MPE427140390            10      81        0.123457                  3\n",
      "25  MPE432439269             2      42        0.047619                  4\n",
      "1   MPE434382765             6     170        0.035294                  5\n",
      "0   MPE433108265             6     203        0.029557                  6\n",
      "35  MPE433252062             2      92        0.021739                  7\n",
      "32  MPE433933924             1      49        0.020408                  8\n",
      "27  MPE430002527             1      60        0.016667                  9\n",
      "34  MPE432728801             1      68        0.014706                 10\n",
      "3   MPE419883282            15    1772        0.008465                 11\n",
      "22  MPE440389411             1     158        0.006329                 12\n",
      "23  MPE421767433             4     746        0.005362                 13\n",
      "2   MPE433853177             3    1034        0.002901                 14\n",
      "31  MPE428549082             1     352        0.002841                 15\n",
      "21  MPE432990777             1     426        0.002347                 16\n",
      "14  MPE431446248             2    2242        0.000892                 17\n"
     ]
    }
   ],
   "source": [
    "print(df6)"
   ]
  },
  {
   "cell_type": "markdown",
   "metadata": {},
   "source": [
    "# Desafío 7: Porcentaje de Stock\n"
   ]
  },
  {
   "cell_type": "code",
   "execution_count": 10,
   "metadata": {},
   "outputs": [],
   "source": [
    "df7=df[[ 'itemId','availableQuantity']].copy()\n",
    "df7['stockPercentage']=(df7['availableQuantity']/df7['availableQuantity'].sum())*100\n",
    "df7['stockPercentage']=df7['stockPercentage'].round(2)\n",
    "df7.sort_values('stockPercentage', ascending=False, inplace=True)\n"
   ]
  },
  {
   "cell_type": "code",
   "execution_count": 11,
   "metadata": {},
   "outputs": [
    {
     "name": "stdout",
     "output_type": "stream",
     "text": [
      "          itemId  availableQuantity  stockPercentage\n",
      "38  MPE433046443                999            70.30\n",
      "36  MPE436649728                100             7.04\n",
      "5   MPE438492919                100             7.04\n",
      "6   MPE429448587                 50             3.52\n",
      "14  MPE431446248                 23             1.62\n",
      "3   MPE419883282                 18             1.27\n",
      "2   MPE433853177                 17             1.20\n",
      "23  MPE421767433                 11             0.77\n",
      "29  MPE432202936                 10             0.70\n",
      "9   MPE437503507                 10             0.70\n",
      "22  MPE440389411                  9             0.63\n",
      "0   MPE433108265                  9             0.63\n",
      "20  MPE440131689                  7             0.49\n",
      "30  MPE428549066                  5             0.35\n",
      "21  MPE432990777                  5             0.35\n",
      "31  MPE428549082                  4             0.28\n",
      "7   MPE439307195                  3             0.21\n",
      "13  MPE439307206                  3             0.21\n",
      "8   MPE439307251                  3             0.21\n",
      "19  MPE439307385                  3             0.21\n",
      "1   MPE434382765                  3             0.21\n",
      "18  MPE439307286                  3             0.21\n",
      "17  MPE439307317                  3             0.21\n",
      "15  MPE439307250                  3             0.21\n",
      "11  MPE439307426                  3             0.21\n",
      "10  MPE438828260                  3             0.21\n",
      "37  MPE427140390                  2             0.14\n",
      "32  MPE433933924                  1             0.07\n",
      "4   MPE431714651                  1             0.07\n",
      "35  MPE433252062                  1             0.07\n",
      "34  MPE432728801                  1             0.07\n",
      "33  MPE432291284                  1             0.07\n",
      "12  MPE440306037                  1             0.07\n",
      "28  MPE432990781                  1             0.07\n",
      "27  MPE430002527                  1             0.07\n",
      "26  MPE431410374                  1             0.07\n",
      "24  MPE432990779                  1             0.07\n",
      "16  MPE439510012                  1             0.07\n",
      "25  MPE432439269                  1             0.07\n"
     ]
    }
   ],
   "source": [
    "print(df7)"
   ]
  },
  {
   "cell_type": "markdown",
   "metadata": {},
   "source": [
    "# Desafío 8: Paths 1\n"
   ]
  },
  {
   "cell_type": "code",
   "execution_count": 12,
   "metadata": {},
   "outputs": [],
   "source": [
    "def generateMonthlyPathList(year, month, day):\n",
    "    \n",
    "    lista_dias = []\n",
    "    path = 'http://challenge_path_1/'\n",
    "    for days in range(1,int(day)+1): # Recorro una lista de los días desde el 1eo al dia indicado mas 1 para incluirlo en el resultado\n",
    "        lista_dias.append(path+year+'/'+month+'/{:02}/'.format(days))\n",
    "    return lista_dias"
   ]
  },
  {
   "cell_type": "code",
   "execution_count": 13,
   "metadata": {},
   "outputs": [
    {
     "data": {
      "text/plain": [
       "['http://challenge_path_1/2021/07/01/',\n",
       " 'http://challenge_path_1/2021/07/02/',\n",
       " 'http://challenge_path_1/2021/07/03/',\n",
       " 'http://challenge_path_1/2021/07/04/',\n",
       " 'http://challenge_path_1/2021/07/05/',\n",
       " 'http://challenge_path_1/2021/07/06/',\n",
       " 'http://challenge_path_1/2021/07/07/',\n",
       " 'http://challenge_path_1/2021/07/08/',\n",
       " 'http://challenge_path_1/2021/07/09/',\n",
       " 'http://challenge_path_1/2021/07/10/',\n",
       " 'http://challenge_path_1/2021/07/11/']"
      ]
     },
     "execution_count": 13,
     "metadata": {},
     "output_type": "execute_result"
    }
   ],
   "source": [
    "generateMonthlyPathList(\"2021\", \"07\", \"11\")"
   ]
  },
  {
   "cell_type": "markdown",
   "metadata": {},
   "source": [
    "# Desafío 9: Paths 2\n"
   ]
  },
  {
   "cell_type": "code",
   "execution_count": 14,
   "metadata": {},
   "outputs": [],
   "source": [
    "def generateLastDaysPaths(dia, days):\n",
    "    from datetime import datetime\n",
    "    from dateutil.relativedelta import relativedelta\n",
    "    dia=datetime.strptime(dia,'%Y%m%d')\n",
    "    lista_dias = []\n",
    "    path = 'http://challenge_path_2/'\n",
    "    dia1=dia-relativedelta(days=days-1)\n",
    "    lista = [dia1 + relativedelta(days=days) for days in range((dia - dia1).days + 1)]\n",
    "    for dias in lista:\n",
    "        lista_dias.append(path+dias.strftime('%Y/%m/%d')+'/')\n",
    "    \n",
    "    return lista_dias"
   ]
  },
  {
   "cell_type": "code",
   "execution_count": 15,
   "metadata": {},
   "outputs": [
    {
     "data": {
      "text/plain": [
       "['http://challenge_path_2/2021/06/26/',\n",
       " 'http://challenge_path_2/2021/06/27/',\n",
       " 'http://challenge_path_2/2021/06/28/',\n",
       " 'http://challenge_path_2/2021/06/29/',\n",
       " 'http://challenge_path_2/2021/06/30/',\n",
       " 'http://challenge_path_2/2021/07/01/',\n",
       " 'http://challenge_path_2/2021/07/02/',\n",
       " 'http://challenge_path_2/2021/07/03/',\n",
       " 'http://challenge_path_2/2021/07/04/',\n",
       " 'http://challenge_path_2/2021/07/05/',\n",
       " 'http://challenge_path_2/2021/07/06/',\n",
       " 'http://challenge_path_2/2021/07/07/',\n",
       " 'http://challenge_path_2/2021/07/08/',\n",
       " 'http://challenge_path_2/2021/07/09/',\n",
       " 'http://challenge_path_2/2021/07/10/']"
      ]
     },
     "execution_count": 15,
     "metadata": {},
     "output_type": "execute_result"
    }
   ],
   "source": [
    "generateLastDaysPaths(\"20210710\", 15)"
   ]
  },
  {
   "cell_type": "markdown",
   "metadata": {},
   "source": [
    "# Desafío 10: Restaurar BBDD"
   ]
  },
  {
   "attachments": {
    "image.png": {
     "image/png": "[encoded data removed]"
    }
   },
   "cell_type": "markdown",
   "metadata": {},
   "source": [
    "![image.png](attachment:image.png)"
   ]
  },
  {
   "cell_type": "markdown",
   "metadata": {},
   "source": [
    "# Desafío 11: SQL 1\n"
   ]
  },
  {
   "cell_type": "code",
   "execution_count": null,
   "metadata": {},
   "outputs": [],
   "source": [
    "\"\"\"\n",
    "SELECT p.CountryRegionCode country_region_code, \n",
    "       avg(tr.TaxRate) average_taxRate\n",
    "  FROM [Sales].[SalesTaxRate] tr \n",
    "  join [Person].[StateProvince] p on tr.StateProvinceID = p.StateProvinceID\n",
    " group by p.CountryRegionCode\n",
    "\n",
    "\"\"\""
   ]
  },
  {
   "attachments": {
    "image.png": {
     "image/png": "[encoded data removed]"
    }
   },
   "cell_type": "markdown",
   "metadata": {},
   "source": [
    "![image.png](attachment:image.png)"
   ]
  },
  {
   "cell_type": "markdown",
   "metadata": {},
   "source": [
    "# Desafío 12: SQL 2\n"
   ]
  },
  {
   "cell_type": "code",
   "execution_count": null,
   "metadata": {},
   "outputs": [],
   "source": [
    "\"\"\"\n",
    "select  re.[Name] country_name, cu.[Name] currency_name,  \n",
    "        round( max(ra.AverageRate),2) currency_rate, \n",
    "        round(avg(tr.TaxRate),2) average_tax_rate\n",
    "  from [Person].[CountryRegion] re\n",
    "  join [Person].[StateProvince] sp  on sp.CountryRegionCode = re.CountryRegionCode\n",
    "  join [Sales].[CountryRegionCurrency] rc on rc.CountryRegionCode = re.CountryRegionCode\n",
    "  join [Sales].[Currency] cu on cu.CurrencyCode = rc.CurrencyCode\n",
    "  join [Sales].[SalesTaxRate] tr on tr.StateProvinceID = sp.StateProvinceID\n",
    "  join [Sales].[CurrencyRate] ra on ra.[ToCurrencyCode] = rc.CurrencyCode\n",
    " group by re.[Name], cu.[Name]\n",
    " order by re.[Name], cu.[Name]\n",
    "\"\"\""
   ]
  },
  {
   "attachments": {
    "image.png": {
     "image/png": "[encoded data removed]"
    }
   },
   "cell_type": "markdown",
   "metadata": {},
   "source": [
    "![image.png](attachment:image.png)"
   ]
  },
  {
   "cell_type": "code",
   "execution_count": null,
   "metadata": {},
   "outputs": [],
   "source": []
  }
 ],
 "metadata": {
  "kernelspec": {
   "display_name": "Python 3",
   "language": "python",
   "name": "python3"
  },
  "language_info": {
   "codemirror_mode": {
    "name": "ipython",
    "version": 3
   },
   "file_extension": ".py",
   "mimetype": "text/x-python",
   "name": "python",
   "nbconvert_exporter": "python",
   "pygments_lexer": "ipython3",
   "version": "3.8.3"
  }
 },
 "nbformat": 4,
 "nbformat_minor": 4
}
